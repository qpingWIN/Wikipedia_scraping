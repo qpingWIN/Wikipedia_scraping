{
 "cells": [
  {
   "cell_type": "markdown",
   "metadata": {},
   "source": [
    "Web scraping for news arcticles from wikipedia"
   ]
  },
  {
   "cell_type": "code",
   "execution_count": 30,
   "metadata": {},
   "outputs": [
    {
     "name": "stdout",
     "output_type": "stream",
     "text": [
      "200\n"
     ]
    }
   ],
   "source": [
    "import requests\n",
    "from bs4 import BeautifulSoup\n",
    "\n",
    "headers = {\n",
    "    \"User-Agent\": \"UCL-DataScience-ResearchBot/1.0 (contact: pavlo.petrashko@gmail.com\"\n",
    "}\n",
    "\n",
    "url = \"https://en.wikipedia.org/wiki/Main_Page\"\n",
    "page = requests.get(url, headers=headers)\n",
    "\n",
    "print(page.status_code)"
   ]
  },
  {
   "cell_type": "markdown",
   "metadata": {},
   "source": [
    "Status code 200 means the request has been successfully handled"
   ]
  },
  {
   "cell_type": "code",
   "execution_count": 31,
   "metadata": {},
   "outputs": [
    {
     "name": "stdout",
     "output_type": "stream",
     "text": [
      "News data saved to wikipedia_in_the_news.csv\n"
     ]
    }
   ],
   "source": [
    "\n",
    "import csv\n",
    "from datetime import datetime\n",
    "soup = BeautifulSoup(page.text, \"html.parser\")\n",
    "\n",
    "news_section = soup.find(\"div\", id=\"mp-itn\")\n",
    "headlines = news_section.find_all(\"li\")\n",
    "\n",
    "with open(\"wikipedia_in_the_news.csv\", \"w\", newline=\"\", encoding=\"utf-8\") as file:\n",
    "    writer = csv.writer(file)\n",
    "    writer.writerow([\"headline_text\", \"headline_link\", \"date_scraped\"])\n",
    "\n",
    "    for item in headlines:\n",
    "        headline_text = item.get_text(\" \", strip=True)\n",
    "        # Get first link if available\n",
    "        link_tag = item.find(\"a\")\n",
    "        headline_link = f\"https://en.wikipedia.org{link_tag['href']}\" if link_tag else None\n",
    "        date_scraped = datetime.now().strftime(\"%Y-%m-%d %H:%M:%S\")\n",
    "\n",
    "        # Write to CSV\n",
    "        writer.writerow([headline_text, headline_link, date_scraped])\n",
    "\n",
    "print(\"News data saved to wikipedia_in_the_news.csv\")"
   ]
  },
  {
   "cell_type": "code",
   "execution_count": 33,
   "metadata": {},
   "outputs": [
    {
     "data": {
      "text/html": [
       "<div>\n",
       "<style scoped>\n",
       "    .dataframe tbody tr th:only-of-type {\n",
       "        vertical-align: middle;\n",
       "    }\n",
       "\n",
       "    .dataframe tbody tr th {\n",
       "        vertical-align: top;\n",
       "    }\n",
       "\n",
       "    .dataframe thead th {\n",
       "        text-align: right;\n",
       "    }\n",
       "</style>\n",
       "<table border=\"1\" class=\"dataframe\">\n",
       "  <thead>\n",
       "    <tr style=\"text-align: right;\">\n",
       "      <th></th>\n",
       "      <th>headline_text</th>\n",
       "      <th>headline_link</th>\n",
       "      <th>date_scraped</th>\n",
       "    </tr>\n",
       "  </thead>\n",
       "  <tbody>\n",
       "    <tr>\n",
       "      <th>0</th>\n",
       "      <td>American actor and filmmaker Robert Redford (p...</td>\n",
       "      <td>https://en.wikipedia.org/wiki/Robert_Redford</td>\n",
       "      <td>2025-09-18 14:46:04</td>\n",
       "    </tr>\n",
       "    <tr>\n",
       "      <th>1</th>\n",
       "      <td>In television, The Studio wins best comedy and...</td>\n",
       "      <td>https://en.wikipedia.org/wiki/The_Studio_(TV_s...</td>\n",
       "      <td>2025-09-18 14:46:04</td>\n",
       "    </tr>\n",
       "    <tr>\n",
       "      <th>2</th>\n",
       "      <td>After widespread protests , Sushila Karki is a...</td>\n",
       "      <td>https://en.wikipedia.org/wiki/2025_Nepalese_Ge...</td>\n",
       "      <td>2025-09-18 14:46:04</td>\n",
       "    </tr>\n",
       "    <tr>\n",
       "      <th>3</th>\n",
       "      <td>Former Brazilian president Jair Bolsonaro is s...</td>\n",
       "      <td>https://en.wikipedia.org/wiki/President_of_Brazil</td>\n",
       "      <td>2025-09-18 14:46:04</td>\n",
       "    </tr>\n",
       "    <tr>\n",
       "      <th>4</th>\n",
       "      <td>Gaza war</td>\n",
       "      <td>https://en.wikipedia.org/wiki/Gaza_war</td>\n",
       "      <td>2025-09-18 14:46:04</td>\n",
       "    </tr>\n",
       "    <tr>\n",
       "      <th>5</th>\n",
       "      <td>Russian invasion of Ukraine timeline</td>\n",
       "      <td>https://en.wikipedia.org/wiki/Russian_invasion...</td>\n",
       "      <td>2025-09-18 14:46:04</td>\n",
       "    </tr>\n",
       "    <tr>\n",
       "      <th>6</th>\n",
       "      <td>timeline</td>\n",
       "      <td>https://en.wikipedia.org/wiki/Timeline_of_the_...</td>\n",
       "      <td>2025-09-18 14:46:04</td>\n",
       "    </tr>\n",
       "    <tr>\n",
       "      <th>7</th>\n",
       "      <td>Sudanese civil war timeline</td>\n",
       "      <td>https://en.wikipedia.org/wiki/Sudanese_civil_w...</td>\n",
       "      <td>2025-09-18 14:46:04</td>\n",
       "    </tr>\n",
       "    <tr>\n",
       "      <th>8</th>\n",
       "      <td>timeline</td>\n",
       "      <td>https://en.wikipedia.org/wiki/Timeline_of_the_...</td>\n",
       "      <td>2025-09-18 14:46:04</td>\n",
       "    </tr>\n",
       "    <tr>\n",
       "      <th>9</th>\n",
       "      <td>Kwadwo Safo Kantanka</td>\n",
       "      <td>https://en.wikipedia.org/wiki/Kwadwo_Safo_Kant...</td>\n",
       "      <td>2025-09-18 14:46:04</td>\n",
       "    </tr>\n",
       "    <tr>\n",
       "      <th>10</th>\n",
       "      <td>Isabel Rilvas</td>\n",
       "      <td>https://en.wikipedia.org/wiki/Isabel_Rilvas</td>\n",
       "      <td>2025-09-18 14:46:04</td>\n",
       "    </tr>\n",
       "    <tr>\n",
       "      <th>11</th>\n",
       "      <td>Hermeto Pascoal</td>\n",
       "      <td>https://en.wikipedia.org/wiki/Hermeto_Pascoal</td>\n",
       "      <td>2025-09-18 14:46:04</td>\n",
       "    </tr>\n",
       "    <tr>\n",
       "      <th>12</th>\n",
       "      <td>Kim Seong-min</td>\n",
       "      <td>https://en.wikipedia.org/wiki/Kim_Seong-min_(d...</td>\n",
       "      <td>2025-09-18 14:46:04</td>\n",
       "    </tr>\n",
       "    <tr>\n",
       "      <th>13</th>\n",
       "      <td>Inge Brück</td>\n",
       "      <td>https://en.wikipedia.org/wiki/Inge_Br%C3%BCck</td>\n",
       "      <td>2025-09-18 14:46:04</td>\n",
       "    </tr>\n",
       "    <tr>\n",
       "      <th>14</th>\n",
       "      <td>Mary Rose Oakar</td>\n",
       "      <td>https://en.wikipedia.org/wiki/Mary_Rose_Oakar</td>\n",
       "      <td>2025-09-18 14:46:04</td>\n",
       "    </tr>\n",
       "    <tr>\n",
       "      <th>15</th>\n",
       "      <td>Nominate an article</td>\n",
       "      <td>https://en.wikipedia.org/wiki/Wikipedia:In_the...</td>\n",
       "      <td>2025-09-18 14:46:04</td>\n",
       "    </tr>\n",
       "  </tbody>\n",
       "</table>\n",
       "</div>"
      ],
      "text/plain": [
       "                                        headline_text  \\\n",
       "0   American actor and filmmaker Robert Redford (p...   \n",
       "1   In television, The Studio wins best comedy and...   \n",
       "2   After widespread protests , Sushila Karki is a...   \n",
       "3   Former Brazilian president Jair Bolsonaro is s...   \n",
       "4                                            Gaza war   \n",
       "5                Russian invasion of Ukraine timeline   \n",
       "6                                            timeline   \n",
       "7                         Sudanese civil war timeline   \n",
       "8                                            timeline   \n",
       "9                                Kwadwo Safo Kantanka   \n",
       "10                                      Isabel Rilvas   \n",
       "11                                    Hermeto Pascoal   \n",
       "12                                      Kim Seong-min   \n",
       "13                                         Inge Brück   \n",
       "14                                    Mary Rose Oakar   \n",
       "15                                Nominate an article   \n",
       "\n",
       "                                        headline_link         date_scraped  \n",
       "0        https://en.wikipedia.org/wiki/Robert_Redford  2025-09-18 14:46:04  \n",
       "1   https://en.wikipedia.org/wiki/The_Studio_(TV_s...  2025-09-18 14:46:04  \n",
       "2   https://en.wikipedia.org/wiki/2025_Nepalese_Ge...  2025-09-18 14:46:04  \n",
       "3   https://en.wikipedia.org/wiki/President_of_Brazil  2025-09-18 14:46:04  \n",
       "4              https://en.wikipedia.org/wiki/Gaza_war  2025-09-18 14:46:04  \n",
       "5   https://en.wikipedia.org/wiki/Russian_invasion...  2025-09-18 14:46:04  \n",
       "6   https://en.wikipedia.org/wiki/Timeline_of_the_...  2025-09-18 14:46:04  \n",
       "7   https://en.wikipedia.org/wiki/Sudanese_civil_w...  2025-09-18 14:46:04  \n",
       "8   https://en.wikipedia.org/wiki/Timeline_of_the_...  2025-09-18 14:46:04  \n",
       "9   https://en.wikipedia.org/wiki/Kwadwo_Safo_Kant...  2025-09-18 14:46:04  \n",
       "10        https://en.wikipedia.org/wiki/Isabel_Rilvas  2025-09-18 14:46:04  \n",
       "11      https://en.wikipedia.org/wiki/Hermeto_Pascoal  2025-09-18 14:46:04  \n",
       "12  https://en.wikipedia.org/wiki/Kim_Seong-min_(d...  2025-09-18 14:46:04  \n",
       "13      https://en.wikipedia.org/wiki/Inge_Br%C3%BCck  2025-09-18 14:46:04  \n",
       "14      https://en.wikipedia.org/wiki/Mary_Rose_Oakar  2025-09-18 14:46:04  \n",
       "15  https://en.wikipedia.org/wiki/Wikipedia:In_the...  2025-09-18 14:46:04  "
      ]
     },
     "execution_count": 33,
     "metadata": {},
     "output_type": "execute_result"
    }
   ],
   "source": [
    "import pandas as pd\n",
    "\n",
    "df = pd.read_csv(\"wikipedia_in_the_news.csv\")\n",
    "df"
   ]
  },
  {
   "cell_type": "code",
   "execution_count": null,
   "metadata": {},
   "outputs": [],
   "source": []
  }
 ],
 "metadata": {
  "kernelspec": {
   "display_name": "Python 3.9.7 64-bit",
   "language": "python",
   "name": "python3"
  },
  "language_info": {
   "codemirror_mode": {
    "name": "ipython",
    "version": 3
   },
   "file_extension": ".py",
   "mimetype": "text/x-python",
   "name": "python",
   "nbconvert_exporter": "python",
   "pygments_lexer": "ipython3",
   "version": "3.9.7"
  },
  "orig_nbformat": 4,
  "vscode": {
   "interpreter": {
    "hash": "aee8b7b246df8f9039afb4144a1f6fd8d2ca17a180786b69acc140d282b71a49"
   }
  }
 },
 "nbformat": 4,
 "nbformat_minor": 2
}
